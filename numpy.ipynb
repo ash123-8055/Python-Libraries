{
 "cells": [
  {
   "cell_type": "markdown",
   "metadata": {},
   "source": [
    "<center><h1>NumPy Problems</h1></center>"
   ]
  },
  {
   "cell_type": "markdown",
   "metadata": {},
   "source": [
    "<left><h3>Importing the NumPy</h3></left>"
   ]
  },
  {
   "cell_type": "code",
   "execution_count": 146,
   "metadata": {},
   "outputs": [],
   "source": [
    "import numpy as np"
   ]
  },
  {
   "cell_type": "markdown",
   "metadata": {},
   "source": [
    "1. Write a Python program to convert a list of numeric value into a one-dimensional\n",
    "NumPy array.<br>\n",
    "Expected Output:<br>\n",
    "Original List: [12.23, 13.32, 100, 36.32]<br>\n",
    "One-dimensional numpy array: [ 12.23 13.32 100. 36.32]"
   ]
  },
  {
   "cell_type": "code",
   "execution_count": 147,
   "metadata": {},
   "outputs": [
    {
     "name": "stdout",
     "output_type": "stream",
     "text": [
      "Original list: [12.23, 13.32, 100, 36.32]\n",
      "One-dimensional numpy array: [ 12.23  13.32 100.    36.32]\n"
     ]
    }
   ],
   "source": [
    "array_one=[12.23,13.32,100,36.32]\n",
    "array_two=np.array(array_one)\n",
    "print(f\"Original list: {array_one}\")\n",
    "print(f\"One-dimensional numpy array: {array_two}\")"
   ]
  },
  {
   "cell_type": "markdown",
   "metadata": {},
   "source": [
    "2. Create a 3x3 matrix with values ranging from 2 to 10.\n",
    "<br>Expected Output:<br>\n",
    "[[ 2 3 4]<br>\n",
    "[ 5 6 7]<br>\n",
    "[ 8 9 10]]<br>"
   ]
  },
  {
   "cell_type": "code",
   "execution_count": 148,
   "metadata": {},
   "outputs": [
    {
     "name": "stdout",
     "output_type": "stream",
     "text": [
      "[[ 2  3  4]\n",
      " [ 5  6  7]\n",
      " [ 8  9 10]]\n"
     ]
    }
   ],
   "source": [
    "num_list=[]\n",
    "for counter in range(2,11):\n",
    "    num_list.append(counter)\n",
    "\n",
    "num_array=np.array(num_list)\n",
    "array_3D=num_array.reshape(3,3)\n",
    "print(array_3D)"
   ]
  },
  {
   "cell_type": "markdown",
   "metadata": {},
   "source": [
    "3. Write a Python program to create a null vector of size 10 and update sixth value to 11.<br>\n",
    "[ 0. 0. 0. 0. 0. 0. 0. 0. 0. 0.]<br>\n",
    "Update sixth value to 11<br>\n",
    "[ 0. 0. 0. 0. 0. 0. 11. 0. 0. 0.]"
   ]
  },
  {
   "cell_type": "code",
   "execution_count": 149,
   "metadata": {},
   "outputs": [
    {
     "name": "stdout",
     "output_type": "stream",
     "text": [
      "Before Updation\n",
      "[0 0 0 0 0 0 0 0 0 0]\n",
      "After Updation\n",
      "[ 0  0  0  0  0  0 11  0  0  0]\n"
     ]
    }
   ],
   "source": [
    "num_list=[]\n",
    "for i in range(10):\n",
    "    num_list.append(0)\n",
    "\n",
    "num_array=np.array(num_list)\n",
    "print(f\"Before Updation\\n{num_array}\")\n",
    "num_array[-4]=11\n",
    "print(f\"After Updation\\n{num_array}\")"
   ]
  },
  {
   "cell_type": "markdown",
   "metadata": {},
   "source": [
    "4. Write a Python program to reverse an array (first element becomes last).<br>\n",
    "Original array:<br>\n",
    "[12 13 14 15 16 17 18 19 20 21 22 23 24 25 26 27 28 29 30 31 32 33 34 35 36 37]<br>\n",
    "Reverse array:<br>\n",
    "[37 36 35 34 33 32 31 30 29 28 27 26 25 24 23 22 21 20 19 18 17 16 15 14 13 12]"
   ]
  },
  {
   "cell_type": "code",
   "execution_count": 150,
   "metadata": {},
   "outputs": [
    {
     "name": "stdout",
     "output_type": "stream",
     "text": [
      "original array:\n",
      "[12 13 14 15 16 17 18 19 20 21 22 23 24 25 26 27 28 29 30 31 32 33 34 35\n",
      " 36 37]\n",
      "Reverse array:\n",
      "[37 36 35 34 33 32 31 30 29 28 27 26 25 24 23 22 21 20 19 18 17 16 15 14\n",
      " 13 12]\n"
     ]
    }
   ],
   "source": [
    "num_array=np.array([12,13,14,15,16,17,18,19,20,21,22,23,24,25,26,27,28,29,30,31,32,33,34,35,36,37])\n",
    "reverse_array=num_array[::-1]\n",
    "print(f\"original array:\\n{num_array}\")\n",
    "print(f\"Reverse array:\\n{reverse_array}\")"
   ]
  },
  {
   "cell_type": "markdown",
   "metadata": {},
   "source": [
    "5. Write a Python program to create a 2d array with 1 on the border and 0 inside.<br>\n",
    "Expected Output:<br>\n",
    "Original array:<br>\n",
    "[[ 1. 1. 1. 1. 1.]<br>\n",
    "[ 1. 1. 1. 1. 1.]<br>\n",
    "[ 1. 1. 1. 1. 1.]<br>\n",
    "[ 1. 1. 1. 1. 1.]<br>\n",
    "[ 1. 1. 1. 1. 1.]]<br>\n",
    "1 on the border and 0 inside in the array<br>\n",
    "[[ 1. 1. 1. 1. 1.]<br>\n",
    "[ 1. 0. 0. 0. 1.]<br>\n",
    "[ 1. 0. 0. 0. 1.]<br>\n",
    "[ 1. 0. 0. 0. 1.]<br>\n",
    "[ 1. 1. 1. 1. 1.]]<br>"
   ]
  },
  {
   "cell_type": "code",
   "execution_count": 151,
   "metadata": {},
   "outputs": [
    {
     "name": "stdout",
     "output_type": "stream",
     "text": [
      "Original array:\n",
      "[[1 1 1 1 1]\n",
      " [1 1 1 1 1]\n",
      " [1 1 1 1 1]\n",
      " [1 1 1 1 1]\n",
      " [1 1 1 1 1]]\n",
      "\n",
      "[[1 1 1 1 1]\n",
      " [1 0 0 0 1]\n",
      " [1 0 0 0 1]\n",
      " [1 0 0 0 1]\n",
      " [1 1 1 1 1]]\n"
     ]
    }
   ],
   "source": [
    "num_list=[1 for counter in range(25)]\n",
    "num_array=np.array(num_list)\n",
    "num_array=num_array.reshape(5,5)\n",
    "print(f\"Original array:\\n{num_array}\\n\")\n",
    "\n",
    "new_array=np.copy(num_array)\n",
    "for counter1 in range(5):\n",
    "    for counter2 in range(5):\n",
    "        if counter1 in [1,2,3] and counter2 in [1,2,3]:\n",
    "            new_array[counter1][counter2]=0\n",
    "\n",
    "print(new_array)"
   ]
  },
  {
   "cell_type": "markdown",
   "metadata": {},
   "source": [
    "6. Write a Python program to add a border (filled with 0's) around an existing array.<br>\n",
    "Expected Output:<br>\n",
    "Original array:<br>\n",
    "[[ 1. 1. 1.]<br>\n",
    "[ 1. 1. 1.]<br>\n",
    "[ 1. 1. 1.]]<br>\n",
    "1 on the border and 0 inside in the array<br>\n",
    "[[ 0. 0. 0. 0. 0.]<br>\n",
    "[ 0. 1. 1. 1. 0.]<br>\n",
    "[ 0. 1. 1. 1. 0.]<br>\n",
    "[ 0. 1. 1. 1. 0.]<br>\n",
    "[ 0. 0. 0. 0. 0.]]<br>"
   ]
  },
  {
   "cell_type": "code",
   "execution_count": 152,
   "metadata": {},
   "outputs": [
    {
     "name": "stdout",
     "output_type": "stream",
     "text": [
      "Original array:\n",
      "[[1 1 1]\n",
      " [1 1 1]\n",
      " [1 1 1]]\n",
      "\n",
      "[[0. 0. 0. 0. 0.]\n",
      " [0. 1. 1. 1. 0.]\n",
      " [0. 1. 1. 1. 0.]\n",
      " [0. 1. 1. 1. 0.]\n",
      " [0. 0. 0. 0. 0.]]\n"
     ]
    }
   ],
   "source": [
    "num_list=[1 for i in range(9)]\n",
    "num_array=np.array(num_list)\n",
    "num_array=num_array.reshape(3,3)\n",
    "print(f\"Original array:\\n{num_array}\\n\")\n",
    "\n",
    "new_array=np.zeros((5,5))\n",
    "for i in range(5):\n",
    "    for j in range(5):\n",
    "        if i in [1,2,3] and j in [1,2,3]:\n",
    "            new_array[i][j]=1\n",
    "\n",
    "print(new_array)\n"
   ]
  },
  {
   "cell_type": "markdown",
   "metadata": {},
   "source": [
    "7. Write a Python program to create a 8x8 matrix and fill it with a checkerboard pattern.<br>\n",
    "Checkerboard pattern:<br>\n",
    "[[0 1 0 1 0 1 0 1]<br>\n",
    "[1 0 1 0 1 0 1 0]<br>\n",
    "[0 1 0 1 0 1 0 1]<br>\n",
    "[1 0 1 0 1 0 1 0]<br>\n",
    "[0 1 0 1 0 1 0 1]<br>\n",
    "[1 0 1 0 1 0 1 0]<br>\n",
    "[0 1 0 1 0 1 0 1]<br>\n",
    "[1 0 1 0 1 0 1 0]]<br>"
   ]
  },
  {
   "cell_type": "code",
   "execution_count": 153,
   "metadata": {},
   "outputs": [
    {
     "name": "stdout",
     "output_type": "stream",
     "text": [
      "[[0 1 0 1 0 1 0 1]\n",
      " [1 0 1 0 1 0 1 0]\n",
      " [0 1 0 1 0 1 0 1]\n",
      " [1 0 1 0 1 0 1 0]\n",
      " [0 1 0 1 0 1 0 1]\n",
      " [1 0 1 0 1 0 1 0]\n",
      " [0 1 0 1 0 1 0 1]\n",
      " [1 0 1 0 1 0 1 0]]\n"
     ]
    }
   ],
   "source": [
    "num_list1=[0 if i%2==0 else 1 for i in range(8)]\n",
    "num_list2=[1 if i%2==0 else 0 for i in range(8)]\n",
    "num_list3=[]\n",
    "for i in range(8):\n",
    "    if i%2==0:\n",
    "        num_list3+=num_list1\n",
    "    else:\n",
    "        num_list3+=num_list2\n",
    "\n",
    "num_array=np.array(num_list3)\n",
    "num_array=num_array.reshape(8,8)\n",
    "print(num_array)"
   ]
  },
  {
   "cell_type": "markdown",
   "metadata": {},
   "source": [
    "8. Write a Python program to convert a list and tuple into arrays.<br>\n",
    "List to array:<br>\n",
    "[1 2 3 4 5 6 7 8]<br>\n",
    "Tuple to array:<br>\n",
    "[[8 4 6]<br>\n",
    "[1 2 3]]"
   ]
  },
  {
   "cell_type": "code",
   "execution_count": 154,
   "metadata": {},
   "outputs": [
    {
     "name": "stdout",
     "output_type": "stream",
     "text": [
      "List to array:\n",
      "[1 2 3 4 5 6 7 8]\n",
      "tuple to array:\n",
      "[1 2 3 4 5 6 7 8]\n"
     ]
    }
   ],
   "source": [
    "num_list=[1,2,3,4,5,6,7,8]\n",
    "num_tuple=(1,2,3,4,5,6,7,8)\n",
    "num_array_list=np.array(num_list)\n",
    "num_array_tuple=np.array(num_tuple)\n",
    "print(f\"List to array:\\n{num_array_list}\")\n",
    "print(f\"tuple to array:\\n{num_array_tuple}\")"
   ]
  },
  {
   "cell_type": "markdown",
   "metadata": {},
   "source": [
    "9. Write a Python program to append values to the end of an array.<br>\n",
    "Expected Output:<br>\n",
    "Original array:<br>\n",
    "[10, 20, 30]<br>\n",
    "After append values to the end of the array:<br>\n",
    "[10 20 30 40 50 60 70 80 90]"
   ]
  },
  {
   "cell_type": "code",
   "execution_count": 155,
   "metadata": {},
   "outputs": [
    {
     "name": "stdout",
     "output_type": "stream",
     "text": [
      "Original array:\n",
      "[10 20 30]\n",
      "After append values to the end of the array:\n",
      "[10 20 30 40 50 60 70 80 90]\n"
     ]
    }
   ],
   "source": [
    "num_array=np.array([10,20,30])\n",
    "print(f\"Original array:\\n{num_array}\")\n",
    "num_array=np.append(num_array,40)\n",
    "num_array=np.append(num_array,50)\n",
    "num_array=np.append(num_array,60)\n",
    "num_array=np.append(num_array,70)\n",
    "num_array=np.append(num_array,80)\n",
    "num_array=np.append(num_array,90)\n",
    "print(f\"After append values to the end of the array:\\n{num_array}\")\n"
   ]
  },
  {
   "cell_type": "markdown",
   "metadata": {},
   "source": [
    "10. Write a Python program to find the real and imaginary parts of an array of complex\n",
    "numbers.<br>\n",
    "Expected Output:<br>\n",
    "Original array [ 1.00000000+0.j 0.70710678+0.70710678j]<br>\n",
    "Real part of the array:<br>\n",
    "[ 1. 0.70710678]<br>\n",
    "Imaginary part of the array:<br>\n",
    "[ 0. 0.70710678]"
   ]
  },
  {
   "cell_type": "code",
   "execution_count": 156,
   "metadata": {},
   "outputs": [
    {
     "name": "stdout",
     "output_type": "stream",
     "text": [
      "Original array [1.        +0.j         0.70710678+0.70710678j]\n",
      "Real part of the array:\n",
      "[1.         0.70710678]\n",
      "Imaginary part of the array:\n",
      "[0.         0.70710678]\n"
     ]
    }
   ],
   "source": [
    "num_array=np.array([1.00000000+0.j,0.70710678+0.70710678j])\n",
    "real_part=num_array.real\n",
    "imag_part=num_array.imag\n",
    "print(f\"Original array {num_array}\")\n",
    "print(f\"Real part of the array:\\n{real_part}\\nImaginary part of the array:\\n{imag_part}\")"
   ]
  },
  {
   "cell_type": "markdown",
   "metadata": {},
   "source": [
    "11. Write a Python program to find the number of elements of an array, length of one<br>\n",
    "array element in bytes and total bytes consumed by the elements.<br>\n",
    "Expected Output:<br>\n",
    "Size of the array: 3<br>\n",
    "Length of one array element in bytes: 8<br>\n",
    "Total bytes consumed by the elements of the array: 24"
   ]
  },
  {
   "cell_type": "code",
   "execution_count": 157,
   "metadata": {},
   "outputs": [
    {
     "name": "stdout",
     "output_type": "stream",
     "text": [
      "Size of the array: 3\n",
      "Length of one array element: 8\n",
      "Total bytes consumed by the elements of the array: 24\n"
     ]
    }
   ],
   "source": [
    "num_array=np.array([[1,2,3,4,5,6,7,8],[9,10,11,12,13,14,15,16],[17,18,19,20,21,22,23,24]])\n",
    "num=0\n",
    "total_size=0\n",
    "for i in num_array:\n",
    "    num+=1\n",
    "    size_one=i.size\n",
    "    total_size+=i.size\n",
    "\n",
    "print(f\"Size of the array: {num}\")\n",
    "print(f\"Length of one array element: {size_one}\")\n",
    "print(f\"Total bytes consumed by the elements of the array: {total_size}\")"
   ]
  },
  {
   "cell_type": "markdown",
   "metadata": {},
   "source": [
    "12. Write a Python program to find common values between two arrays.<br>\n",
    "Expected Output:<br>\n",
    "Array1: [ 0 10 20 40 60]<br>\n",
    "Array2: [10, 30, 40]<br>\n",
    "Common values between two arrays:<br>\n",
    "[10 40]"
   ]
  },
  {
   "cell_type": "code",
   "execution_count": 158,
   "metadata": {},
   "outputs": [
    {
     "name": "stdout",
     "output_type": "stream",
     "text": [
      "Array1: [ 0 10 20 40 60]\n",
      "Array2: [10 30 40]\n",
      "Common values between two arrays:\n",
      "[10 40]\n"
     ]
    }
   ],
   "source": [
    "num_array1=np.array([0,10,20,40,60])\n",
    "num_array2=np.array([10,30,40])\n",
    "\n",
    "num_array3=np.intersect1d(num_array1,num_array2)\n",
    "print(f\"Array1: {num_array1}\")\n",
    "print(f\"Array2: {num_array2}\")\n",
    "print(f\"Common values between two arrays:\\n{num_array3}\")"
   ]
  },
  {
   "cell_type": "markdown",
   "metadata": {},
   "source": [
    "13. Write a Python program to find the set difference of two arrays. The set difference\n",
    "will return the sorted, unique values in array1 that are not in array2.<br>\n",
    "Expected Output:<br>\n",
    "Array1: [ 0 10 20 40 60 80]<br>\n",
    "Array2: [10, 30, 40, 50, 70, 90]<br>\n",
    "Set difference between two arrays:<br>\n",
    "[ 0 20 60 80]"
   ]
  },
  {
   "cell_type": "code",
   "execution_count": 159,
   "metadata": {},
   "outputs": [
    {
     "name": "stdout",
     "output_type": "stream",
     "text": [
      "Array1: [ 0 10 20 40 60 80]\n",
      "Array2: [10 30 40 50 70 90]\n",
      "Set difference between two arrays:\n",
      "[ 0 20 60 80]\n"
     ]
    }
   ],
   "source": [
    "num_array1=np.array([0,10,20,40,60,80])\n",
    "num_array2=np.array([10,30,40,50,70,90])\n",
    "\n",
    "num_array3=np.setdiff1d(num_array1,num_array2)\n",
    "print(f\"Array1: {num_array1}\")\n",
    "print(f\"Array2: {num_array2}\")\n",
    "print(f\"Set difference between two arrays:\\n{num_array3}\")"
   ]
  },
  {
   "cell_type": "markdown",
   "metadata": {},
   "source": [
    "14. Write a Python program to find the set exclusive-or of two arrays. Set exclusive-or<br>\n",
    "will return the sorted, unique values that are in only one (not both) of the input arrays.<br>\n",
    "Array1: [ 0 10 20 40 60 80]<br>\n",
    "Array2: [10, 30, 40, 50, 70]<br>\n",
    "Unique values that are in only one (not both) of the input arrays:<br>\n",
    "[ 0 20 30 50 60 70 80]"
   ]
  },
  {
   "cell_type": "code",
   "execution_count": 160,
   "metadata": {},
   "outputs": [
    {
     "name": "stdout",
     "output_type": "stream",
     "text": [
      "Array1: [ 0 10 20 40 60 80]\n",
      "Array2: [10 30 40 50 70]\n",
      "Unique values that are in only one (not both) of the input arrays:\n",
      "[ 0 20 30 50 60 70 80]\n"
     ]
    }
   ],
   "source": [
    "num_array1=np.array([0,10,20,40,60,80])\n",
    "num_array2=np.array([10,30,40,50,70])\n",
    "\n",
    "num_array3=np.setxor1d(num_array1,num_array2)\n",
    "print(f\"Array1: {num_array1}\")\n",
    "print(f\"Array2: {num_array2}\")\n",
    "print(f\"Unique values that are in only one (not both) of the input arrays:\\n{num_array3}\")"
   ]
  },
  {
   "cell_type": "markdown",
   "metadata": {},
   "source": [
    "15. Write a Python program compare two arrays using numpy.<br>\n",
    "Array a: [1 2]<br>\n",
    "Array b: [4 5]<br>\n",
    "a > b<br>\n",
    "[False False]<br>\n",
    "a >= b<br>\n",
    "[False False]<br>\n",
    "a < b<br>\n",
    "[ True True]<br>\n",
    "a <= b<br>\n",
    "[ True True]"
   ]
  },
  {
   "cell_type": "code",
   "execution_count": 161,
   "metadata": {},
   "outputs": [
    {
     "name": "stdout",
     "output_type": "stream",
     "text": [
      "Array a: [1 2]\n",
      "Array b: [4 5]\n",
      "a > b\n",
      "[False False]\n",
      "a >= b\n",
      "[False False]\n",
      "a < b\n",
      "[ True  True]\n",
      "a <= b\n",
      "[ True  True]\n"
     ]
    }
   ],
   "source": [
    "num_array1=np.array([1,2])\n",
    "num_array2=np.array([4,5])\n",
    "print(f\"Array a: {num_array1}\")\n",
    "print(f\"Array b: {num_array2}\")\n",
    "print(f\"a > b\\n{num_array1>num_array2}\")\n",
    "print(f\"a >= b\\n{num_array1>=num_array2}\")\n",
    "print(f\"a < b\\n{num_array1<num_array2}\")\n",
    "print(f\"a <= b\\n{num_array1<=num_array2}\")"
   ]
  },
  {
   "cell_type": "markdown",
   "metadata": {},
   "source": [
    "15. Write a Python program to save a NumPy array to a text file."
   ]
  },
  {
   "cell_type": "code",
   "execution_count": 162,
   "metadata": {},
   "outputs": [],
   "source": [
    "def write_to_file(num_array):\n",
    "    with open(\"sample.txt\",\"a\") as file:\n",
    "        file.write(f\"The array is : {num_array}\")\n",
    "\n",
    "num_array=np.array([1,2,3,4,5])\n",
    "write_to_file(num_array)"
   ]
  },
  {
   "cell_type": "markdown",
   "metadata": {},
   "source": [
    "16. Write a Python program to create a contiguous flattened array.<br>\n",
    "Original array:<br>\n",
    "[[10 20 30]<br>\n",
    "[20 40 50]]<br>\n",
    "New flattened array:<br>\n",
    "[10 20 30 20 40 50]"
   ]
  },
  {
   "cell_type": "code",
   "execution_count": 163,
   "metadata": {},
   "outputs": [
    {
     "name": "stdout",
     "output_type": "stream",
     "text": [
      "Original array:\n",
      "[[10 20 30]\n",
      " [20 40 50]]\n",
      "New flattened array:\n",
      "[10 20 30 20 40 50]\n"
     ]
    }
   ],
   "source": [
    "num_array=np.array([[10,20,30],[20,40,50]])\n",
    "print(f\"Original array:\\n{num_array}\")\n",
    "num_array=num_array.reshape(num_array.size)\n",
    "print(f\"New flattened array:\\n{num_array}\")"
   ]
  },
  {
   "cell_type": "markdown",
   "metadata": {},
   "source": [
    "17. Write a Python program to change the data type of an array.<br>\n",
    "Expected Output:<br>\n",
    "[[ 2 4 6]<br>\n",
    "[ 6 8 10]]<br>\n",
    "Data type of the array x is: int32<br>\n",
    "New Type: float64<br>\n",
    "[[ 2. 4. 6.]<br>\n",
    "[ 6. 8. 10.]]"
   ]
  },
  {
   "cell_type": "code",
   "execution_count": 164,
   "metadata": {},
   "outputs": [
    {
     "name": "stdout",
     "output_type": "stream",
     "text": [
      "[[ 2  4  6]\n",
      " [ 6  8 10]]\n",
      "Data type of the array x is: int32\n",
      "Data type of the array x is: float32\n",
      "[[ 2.  4.  6.]\n",
      " [ 6.  8. 10.]]\n"
     ]
    }
   ],
   "source": [
    "num_array=np.array([[2,4,6],[6,8,10]])\n",
    "print(num_array)\n",
    "print(f\"Data type of the array x is: {num_array.dtype}\")\n",
    "num_array=num_array.astype(\"f\")\n",
    "print(f\"Data type of the array x is: {num_array.dtype}\")\n",
    "print(num_array)"
   ]
  },
  {
   "cell_type": "markdown",
   "metadata": {},
   "source": [
    "18. Write a Python program to create a 3-D array with ones on a diagonal and zeros\n",
    "elsewhere.<br>\n",
    "Expected Output:<br>\n",
    "[[ 1. 0. 0.]<br>\n",
    "[ 0. 1. 0.]<br>\n",
    "[ 0. 0. 1.]]"
   ]
  },
  {
   "cell_type": "code",
   "execution_count": 165,
   "metadata": {},
   "outputs": [
    {
     "name": "stdout",
     "output_type": "stream",
     "text": [
      "[[1. 0. 0.]\n",
      " [0. 1. 0.]\n",
      " [0. 0. 1.]]\n"
     ]
    }
   ],
   "source": [
    "num_array=np.zeros((3,3))\n",
    "for i in range(3):\n",
    "    for j in range(3):\n",
    "        if (i,j) in [(0,0),(1,1),(2,2)]:\n",
    "            num_array[i][j]=1\n",
    "\n",
    "print(num_array)"
   ]
  },
  {
   "cell_type": "markdown",
   "metadata": {},
   "source": [
    "19. Write a Python program to create an array which looks like below array.<br>\n",
    "Expected Output:<br>\n",
    "[[ 0. 0. 0.]<br>\n",
    "[ 1. 0. 0.]<br>\n",
    "[ 1. 1. 0.]<br>\n",
    "[ 1. 1. 1.]]"
   ]
  },
  {
   "cell_type": "code",
   "execution_count": 166,
   "metadata": {},
   "outputs": [
    {
     "name": "stdout",
     "output_type": "stream",
     "text": [
      "[[0. 0. 0.]\n",
      " [1. 0. 0.]\n",
      " [1. 1. 0.]\n",
      " [1. 1. 1.]]\n"
     ]
    }
   ],
   "source": [
    "num_array=np.zeros((4,3))\n",
    "for i in range(4):\n",
    "    num_array[i,:i]=1\n",
    "\n",
    "print(num_array)"
   ]
  },
  {
   "cell_type": "markdown",
   "metadata": {},
   "source": [
    "20. Write a Python program to concatenate two 2-dimensional arrays.<br>\n",
    "Expected Output:<br>\n",
    "Sample arrays: ([[0, 1, 3], [5, 7, 9]], [[0, 2, 4], [6, 8, 10]]<br>\n",
    "Expected Output:<br>\n",
    "[[ 0 1 3 0 2 4]<br>\n",
    "[ 5 7 9 6 8 10]]"
   ]
  },
  {
   "cell_type": "code",
   "execution_count": 167,
   "metadata": {},
   "outputs": [
    {
     "name": "stdout",
     "output_type": "stream",
     "text": [
      "[[ 0  1  3  0  2  4]\n",
      " [ 5  7  9  6  8 10]]\n"
     ]
    }
   ],
   "source": [
    "num_array=np.array([[[0, 1, 3], [5, 7, 9]], [[0, 2, 4], [6, 8, 10]]])\n",
    "final_array=np.concatenate((num_array[0],num_array[1]),axis=1)\n",
    "print(final_array)"
   ]
  },
  {
   "cell_type": "markdown",
   "metadata": {},
   "source": [
    "21. Write a Python program to make an array immutable (read-only).<br>\n",
    "Expected Output:<br>\n",
    "Test the array is read-only or not:<br>\n",
    "Try to change the value of the first element:<br>\n",
    "Traceback (most recent call last):<br>\n",
    "File \"19236bd0-0bd9-11e7-a232-c706d0968eb6.py\", line 6, in<br>\n",
    "x[0] = 1<br>\n",
    "ValueError: assignment destination is read-only"
   ]
  },
  {
   "cell_type": "code",
   "execution_count": 168,
   "metadata": {},
   "outputs": [
    {
     "name": "stdout",
     "output_type": "stream",
     "text": [
      "Test the array is read-only or not:\n",
      "Try to change the value of the first element:\n",
      "ValueError: assignment destination is read-only\n"
     ]
    }
   ],
   "source": [
    "num_array=np.array([1,2,3,4])\n",
    "num_array.flags.writeable=False\n",
    "print(\"Test the array is read-only or not:\")\n",
    "print(\"Try to change the value of the first element:\")\n",
    "\"\"\"\n",
    "num_array[0]=10\n",
    "print(num_array)\n",
    "The Above code results in error as we have given num_array writeable flag as False\n",
    "\"\"\"\n",
    "try:\n",
    "    num_array[0]=1\n",
    "\n",
    "except ValueError as ve:\n",
    "    print(f\"ValueError: {ve}\")\n"
   ]
  },
  {
   "cell_type": "markdown",
   "metadata": {},
   "source": [
    "22. Write a Python program to create an array of (3, 4) shape, multiply every element\n",
    "value by 3 and display the new array.<br>\n",
    "Expected Output:<br>\n",
    "Original array elements:<br>\n",
    "[[ 0 1 2 3]<br>\n",
    "[ 4 5 6 7]<br>\n",
    "[ 8 9 10 11]]<br>\n",
    "New array elements:<br>\n",
    "[[ 0 3 6 9]<br>\n",
    "[12 15 18 21]<br>\n",
    "[24 27 30 33]]"
   ]
  },
  {
   "cell_type": "code",
   "execution_count": 169,
   "metadata": {},
   "outputs": [
    {
     "name": "stdout",
     "output_type": "stream",
     "text": [
      "Original array elements:\n",
      "[[ 0  1  2  3]\n",
      " [ 4  5  6  7]\n",
      " [ 8  9 10 11]]\n",
      "New array elements:\n",
      "[[ 0  3  6  9]\n",
      " [12 15 18 21]\n",
      " [24 27 30 33]]\n"
     ]
    }
   ],
   "source": [
    "num_array=np.arange(0,12)\n",
    "num_array=num_array.reshape(3,4)\n",
    "print(f\"Original array elements:\\n{num_array}\")\n",
    "num_array=np.multiply(num_array,3)\n",
    "print(f\"New array elements:\\n{num_array}\")"
   ]
  },
  {
   "cell_type": "markdown",
   "metadata": {},
   "source": [
    "23. Write a Python program to convert a NumPy array into Python list structure.\n",
    "Expected Output:<br>\n",
    "Original array elements:<br>\n",
    "[[0 1]<br>\n",
    "[2 3]<br>\n",
    "[4 5]]<br>\n",
    "Array to list:<br>\n",
    "[[0, 1], [2, 3], [4, 5]]"
   ]
  },
  {
   "cell_type": "code",
   "execution_count": 170,
   "metadata": {},
   "outputs": [
    {
     "name": "stdout",
     "output_type": "stream",
     "text": [
      "Original array elements:\n",
      "[[0 1]\n",
      " [2 3]\n",
      " [4 5]]\n",
      "Array to list:\n",
      "[[0, 1], [2, 3], [4, 5]]\n"
     ]
    }
   ],
   "source": [
    "num_array=np.array([0,1,2,3,4,5])\n",
    "num_array=num_array.reshape(3,2)\n",
    "print(f\"Original array elements:\\n{num_array}\")\n",
    "num_array=num_array.tolist()\n",
    "print(f\"Array to list:\\n{num_array}\")"
   ]
  },
  {
   "cell_type": "markdown",
   "metadata": {},
   "source": [
    "24. Write a Python program to convert a NumPy array into Python list structure.\n",
    "Expected Output:<br>\n",
    "Original array elements:<br>\n",
    "[ 0.26153123 0.52760141 0.5718299 0.5927067 0.7831874 0.69746349<br>\n",
    "0.35399976 0.99469633 0.0694458 0.54711478]<br>\n",
    "Print array values with precision 3:<br>\n",
    "[ 0.262 0.528 0.572 0.593 0.783 0.697 0.354 0.995 0.069 0.547]"
   ]
  },
  {
   "cell_type": "code",
   "execution_count": 171,
   "metadata": {},
   "outputs": [
    {
     "name": "stdout",
     "output_type": "stream",
     "text": [
      "Original array elements:\n",
      "[0.26153123 0.52760141 0.5718299  0.5927067  0.7831874  0.69746349\n",
      " 0.35399976 0.99469633 0.0694458  0.54711478]\n",
      "Print array values with precision 3:\n",
      "[0.262, 0.528, 0.572, 0.593, 0.783, 0.697, 0.354, 0.995, 0.069, 0.547]\n"
     ]
    }
   ],
   "source": [
    "float_array=np.array([0.26153123,0.52760141,0.5718299,0.5927067,0.7831874,0.69746349,0.35399976,0.99469633,0.0694458,0.54711478])\n",
    "print(f\"Original array elements:\\n{float_array}\")\n",
    "float_array=np.round(float_array,decimals=3)\n",
    "float_array=float_array.tolist()\n",
    "print(f\"Print array values with precision 3:\\n{float_array}\")"
   ]
  },
  {
   "cell_type": "markdown",
   "metadata": {},
   "source": [
    "25. Write a Python program to suppresses the use of scientific notation for small\n",
    "numbers in numpy array.<br>\n",
    "Expected Output:<br>\n",
    "Original array elements:<br>\n",
    "[ 1.60000000e-10 1.60000000e+00 1.20000000e+03 2.35000000e-01]<br>\n",
    "Print array values with precision 3:<br>\n",
    "[ 0. 1.6 1200. 0.235]"
   ]
  },
  {
   "cell_type": "code",
   "execution_count": 172,
   "metadata": {},
   "outputs": [
    {
     "name": "stdout",
     "output_type": "stream",
     "text": [
      "Original array elements:\n",
      "[   0.       1.6   1200.       0.235]\n",
      "Print array values with precision 3:\n",
      "[   0.       1.6   1200.       0.235]\n"
     ]
    }
   ],
   "source": [
    "float_array=np.array([1.60000000e-10,1.60000000e+00,1.20000000e+03,2.35000000e-01])\n",
    "print(f\"Original array elements:\\n{float_array}\")\n",
    "np.set_printoptions(suppress=True)\n",
    "np.round(float_array,decimals=1)\n",
    "print(f\"Print array values with precision 3:\\n{float_array}\")"
   ]
  },
  {
   "cell_type": "markdown",
   "metadata": {},
   "source": [
    "26. Write a Python program to how to add an extra column to an numpy array.<br>\n",
    "Expected Output:<br>\n",
    "[[ 10 20 30 100]<br>\n",
    "[ 40 50 60 200]]"
   ]
  },
  {
   "cell_type": "code",
   "execution_count": 173,
   "metadata": {},
   "outputs": [
    {
     "name": "stdout",
     "output_type": "stream",
     "text": [
      "[[ 10  20  30 100]\n",
      " [ 40  50  60 200]]\n"
     ]
    }
   ],
   "source": [
    "num_array1=np.array([[10,20,30],[40,50,60]])\n",
    "num_array2=np.array([[100],[200]])\n",
    "num_array=np.hstack((num_array1,num_array2))\n",
    "print(num_array)"
   ]
  },
  {
   "cell_type": "markdown",
   "metadata": {},
   "source": [
    "27. Write a Python program to remove specific elements in a numpy array.<br>\n",
    "Expected Output:<br>\n",
    "Original array:<br>\n",
    "[ 10 20 30 40 50 60 70 80 90 100]<br>\n",
    "Delete first, fourth and fifth elements:<br>\n",
    "[ 20 30 60 70 80 90 100]"
   ]
  },
  {
   "cell_type": "code",
   "execution_count": 174,
   "metadata": {},
   "outputs": [
    {
     "name": "stdout",
     "output_type": "stream",
     "text": [
      "Original list:\n",
      "[ 10  20  30  40  50  60  70  80  90 100]\n",
      "Delete first, fourth and fifth elements:\n",
      "[ 20  30  60  70  80  90 100]\n"
     ]
    }
   ],
   "source": [
    "num_array=np.array([10,20,30,40,50,60,70,80,90,100])\n",
    "print(f\"Original list:\\n{num_array}\")\n",
    "num_array=np.delete(num_array,0)\n",
    "num_array=np.delete(num_array,2)\n",
    "num_array=np.delete(num_array,2)\n",
    "print(f\"Delete first, fourth and fifth elements:\\n{num_array}\")"
   ]
  }
 ],
 "metadata": {
  "kernelspec": {
   "display_name": "Python 3",
   "language": "python",
   "name": "python3"
  },
  "language_info": {
   "codemirror_mode": {
    "name": "ipython",
    "version": 3
   },
   "file_extension": ".py",
   "mimetype": "text/x-python",
   "name": "python",
   "nbconvert_exporter": "python",
   "pygments_lexer": "ipython3",
   "version": "3.12.4"
  }
 },
 "nbformat": 4,
 "nbformat_minor": 2
}
